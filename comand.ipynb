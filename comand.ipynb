{
 "cells": [
  {
   "cell_type": "code",
   "execution_count": 2,
   "id": "ab326c85",
   "metadata": {},
   "outputs": [
    {
     "name": "stdout",
     "output_type": "stream",
     "text": [
      "{'cocoRoot': '/home/wujiali/DeepLearning/dataset/coco-file', 'dataType': 'train2017', 'infer_list': 'voc12/val.txt', 'gt_dir': '/home/wujiali/DeepLearning/dataset/VOC2012/SegmentationClass', 'voc12_root': '/home/wujiali/DeepLearning/dataset/VOC2012', 'batch_size': 2, 'edge_batch_size': 4, 'max_epoches': 6, 'lr': 0.001, 'edge_lr': 0.0001, 'num_workers': 2, 'wt_dec': 0.0005, 'crop_size': 448, 'categories': './coco_categories', 'weights': '/home/wujiali/DeepLearning/train_out/edge_out/toEdge20220309/train_ret/toEdge20220309_refer.pth', 'edge_weights': '/home/wujiali/DeepLearning/train_out/edge_out/toEdge20220309/train_ret/toEdge20220309_edge.pth', 'session_name': 'toEdge_test', 'tblog_dir': './train_in_coco', 'ret_root': './train_ret', 'out_root': '/home/wujiali/DeepLearning/train_out/edge_out'}\n",
      "['bicycle', 'car', 'motorcycle', 'airplane', 'bus', 'train', 'truck', 'boat', 'bird', 'cat', 'dog', 'horse', 'sheep', 'cow', 'elephant', 'bear', 'zebra', 'giraffe']\n",
      "Annotation file: /home/wujiali/DeepLearning/dataset/coco-file/annotations_trainval2017/annotations/instances_train2017.json\n",
      "loading annotations into memory...\n",
      "Done (t=12.81s)\n",
      "creating index...\n",
      "index created!\n",
      "==============================================================================\n",
      "选择用于分类的categories： ['bicycle', 'car', 'motorcycle', 'airplane', 'bus', 'train', 'truck', 'boat', 'bird', 'cat', 'dog', 'horse', 'sheep', 'cow', 'elephant', 'bear', 'zebra', 'giraffe']\n",
      "共有19类,包含图像48334张\n",
      "类别ID： dict_keys([1, 2, 3, 4, 5, 6, 7, 8, 9, 16, 17, 18, 19, 20, 21, 22, 23, 24, 25])\n",
      "-------------------------------------------------------------------------\n",
      "person \t\t\t22959/48334\t 47.500724%\n",
      "bicycle \t\t\t3252/48334\t 6.728183%\n",
      "car \t\t\t12251/48334\t 25.346547%\n",
      "motorcycle \t\t\t3502/48334\t 7.245417%\n",
      "airplane \t\t\t2986/48334\t 6.177846%\n",
      "bus \t\t\t3952/48334\t 8.176439%\n",
      "train \t\t\t3588/48334\t 7.423346%\n",
      "truck \t\t\t6127/48334\t 12.676377%\n",
      "boat \t\t\t3025/48334\t 6.258534%\n",
      "bird \t\t\t3237/48334\t 6.697149%\n",
      "cat \t\t\t4114/48334\t 8.511607%\n",
      "dog \t\t\t4385/48334\t 9.072289%\n",
      "horse \t\t\t2941/48334\t 6.084744%\n",
      "sheep \t\t\t1529/48334\t 3.163405%\n",
      "cow \t\t\t1968/48334\t 4.071668%\n",
      "elephant \t\t\t2143/48334\t 4.433732%\n",
      "bear \t\t\t960/48334\t 1.986180%\n",
      "zebra \t\t\t1916/48334\t 3.964083%\n",
      "giraffe \t\t\t2546/48334\t 5.267514%\n",
      "==============================================================================\n",
      "Constructing DeepLabv3+ model...\n",
      "Backbone: Resnet-101\n",
      "Number of classes: 1\n",
      "Output stride: 16\n",
      "Number of Input Channels: 4\n",
      "======================================================\n",
      "ref_model load weights...\n",
      "ref_model's weights loaded.\n",
      "edge_model load weights...\n",
      "edge_model's weights loaded.\n",
      "Session started:  Mon Jun 27 09:43:19 2022\n",
      "Refer Iter:    0/145002 loss:0.0969 0.0571 0.0031 0.0367 imps:1.4 Fin:Wed Jun 29 19:05:37 2022 lr: 0.0010\n",
      "/home/wujiali/anaconda3/envs/envSEAM/lib/python3.6/site-packages/torch/nn/functional.py:3635: UserWarning: Default upsampling behavior when mode=bilinear is changed to align_corners=False since 0.4.0. Please specify align_corners=True if the old behavior is desired. See the documentation of nn.Upsample for details.\n",
      "  \"See the documentation of nn.Upsample for details.\".format(mode)\n",
      "Refer Iter:  100/145002 loss:0.1855 0.1046 0.0055 0.0754 imps:1.8 Fin:Wed Jun 29 06:39:36 2022 lr: 0.0010\n",
      "Edge Iter:  100/XXXXX loss:82.0802 lr: 0.0001\n",
      "^C\n",
      "Traceback (most recent call last):\n",
      "  File \"train_edge.py\", line 301, in <module>\n",
      "    edge_optimizer.zero_grad()\n",
      "  File \"/home/wujiali/anaconda3/envs/envSEAM/lib/python3.6/site-packages/torch/optim/optimizer.py\", line 217, in zero_grad\n",
      "    p.grad.zero_()\n",
      "KeyboardInterrupt\n"
     ]
    }
   ],
   "source": [
    "!python train_edge.py \\\n",
    "    --cocoRoot /home/wujiali/DeepLearning/dataset/coco-file \\\n",
    "    --dataType train2017 \\\n",
    "    --voc12_root /home/wujiali/DeepLearning/dataset/VOC2012 \\\n",
    "    --gt_dir /home/wujiali/DeepLearning/dataset/VOC2012/SegmentationClass \\\n",
    "    \\\n",
    "    --batch_size 2 \\\n",
    "    --edge_batch_size 4 \\\n",
    "    --max_epoches 6 \\\n",
    "    --lr 0.001 \\\n",
    "    --edge_lr 1e-4 \\\n",
    "    --num_workers 2 \\\n",
    "    --wt_dec 5e-4 \\\n",
    "    --crop_size 448 \\\n",
    "    \\\n",
    "    --categories ./coco_categories \\\n",
    "    --weights /home/wujiali/DeepLearning/train_out/edge_out/toEdge20220309/train_ret/toEdge20220309_refer.pth \\\n",
    "    --edge_weights /home/wujiali/DeepLearning/train_out/edge_out/toEdge20220309/train_ret/toEdge20220309_edge.pth \\\n",
    "    \\\n",
    "    --session_name toEdge_test \\\n",
    "    --tblog_dir ./train_in_coco \\\n",
    "    --ret_root ./train_ret \\\n",
    "    --out_root /home/wujiali/DeepLearning/train_out/edge_out"
   ]
  },
  {
   "cell_type": "code",
   "execution_count": null,
   "id": "73fc24f5",
   "metadata": {},
   "outputs": [
    {
     "name": "stdout",
     "output_type": "stream",
     "text": [
      "======================================================\n",
      "ref_model load weights...\n",
      "ref_model's weights loaded.\n",
      " 80%|███████████████████████████████▎       | 1175/1464 [04:59<01:16,  3.76it/s]"
     ]
    }
   ],
   "source": [
    "!python infer_and_envalue.py \\\n",
    "    --weights ./SEAM_model/resnet38_SEAM.pth \\\n",
    "    --edge_weights /home/wujiali/DeepLearning/train_out/edge_out/toEdge20220315_3/train_ret/toEdge20220315_3_edge_055000.pth \\\n",
    "    --voc12_root /home/wujiali/DeepLearning/dataset/VOC2012 \\\n",
    "    --gt_dir /home/wujiali/DeepLearning/dataset/VOC2012/SegmentationClassAug \\\n",
    "    --infer_list voc12/train.txt \\\n",
    "    --logfile ./train_list_evallog.txt \\\n",
    "    --mUIfile ./muilog.txt "
   ]
  },
  {
   "cell_type": "code",
   "execution_count": null,
   "id": "25c655a4",
   "metadata": {},
   "outputs": [],
   "source": []
  }
 ],
 "metadata": {
  "kernelspec": {
   "display_name": "Python 3",
   "language": "python",
   "name": "python3"
  },
  "language_info": {
   "codemirror_mode": {
    "name": "ipython",
    "version": 3
   },
   "file_extension": ".py",
   "mimetype": "text/x-python",
   "name": "python",
   "nbconvert_exporter": "python",
   "pygments_lexer": "ipython3",
   "version": "3.6.13"
  }
 },
 "nbformat": 4,
 "nbformat_minor": 5
}
